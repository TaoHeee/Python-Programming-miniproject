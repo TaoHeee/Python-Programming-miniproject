{
 "cells": [
  {
   "cell_type": "code",
   "execution_count": 1,
   "id": "7f9170f3",
   "metadata": {},
   "outputs": [],
   "source": [
    "import os"
   ]
  },
  {
   "cell_type": "code",
   "execution_count": 2,
   "id": "9691e411",
   "metadata": {},
   "outputs": [],
   "source": [
    "os.chdir('/Users/odd/Desktop/')"
   ]
  },
  {
   "cell_type": "code",
   "execution_count": 3,
   "id": "b07dbc10",
   "metadata": {},
   "outputs": [],
   "source": [
    "# read names and phone numbers from a file\n",
    "def read_file(file):\n",
    "    first_every_2 = () \n",
    "    second_every_2 = ()     # empty tunples for names and phone numbers\n",
    "    line_count = 0\n",
    "    for line in file:\n",
    "        stripped_line = line.replace(\"\\n\", \"\")    # removes newline character\n",
    "        if line_count%2 == 0:\n",
    "            first_every_2 += (stripped_line,)\n",
    "        elif line_count%2 == 1:\n",
    "                second_every_2 += (stripped_line,)\n",
    "        line_count += 1\n",
    "    return (first_every_2, second_every_2)"
   ]
  },
  {
   "cell_type": "code",
   "execution_count": 4,
   "id": "2433e01f",
   "metadata": {},
   "outputs": [],
   "source": [
    "def sanitize(some_tuple):\n",
    "    clean_string = ()\n",
    "    for st in some_tuple:\n",
    "        st = st.replace(\" \", \"\") \n",
    "        st = st.replace(\"-\", \"\")\n",
    "        st = st.replace(\"(\", \"\")\n",
    "        st = st.replace(\")\", \"\")     # repalces unneccessary characters with empty string\n",
    "        clean_string += (st,)\n",
    "    return clean_string "
   ]
  },
  {
   "cell_type": "code",
   "execution_count": 28,
   "id": "9d7a3876",
   "metadata": {},
   "outputs": [],
   "source": [
    "def analyze_friends(names, phones, all_areacodes, all_states):\n",
    "    def get_unique_area_codes():\n",
    "        area_codes = ()\n",
    "        for ph in phones:\n",
    "            if ph[0:3] not in area_codes:\n",
    "                area_codes += (ph[0:3],)\n",
    "        return area_codes\n",
    "    def get_states(some_areacodes):\n",
    "        states = ()\n",
    "        for ac in some_areacodes:\n",
    "            if ac not in all_areacodes:\n",
    "                states += (\"BAD AREACODE\",)\n",
    "            else:\n",
    "                index = all_areacodes.index(ac)\n",
    "                states += (all_states[index],)\n",
    "        return states\n",
    "    num_friends = len(names)\n",
    "    unique_area_codes = get_unique_area_codes()\n",
    "    unique_states = get_states(unique_area_codes)\n",
    "    print(\"You have\", num_friends, \"friends!\")\n",
    "    print(\"They live in\", unique_states)"
   ]
  },
  {
   "cell_type": "code",
   "execution_count": 23,
   "id": "e96d4ed9",
   "metadata": {},
   "outputs": [],
   "source": [
    "friends_file = open('friends.txt')   # open file\n",
    "(names, phones) = read_file(friends_file)"
   ]
  },
  {
   "cell_type": "code",
   "execution_count": 24,
   "id": "49b7cab5",
   "metadata": {},
   "outputs": [
    {
     "name": "stdout",
     "output_type": "stream",
     "text": [
      "('Ana', 'Ben', 'Cory', 'Danny')\n",
      "('801-456-789', '609 4567890', '(206)-345-2619', '6095648765')\n"
     ]
    }
   ],
   "source": [
    "print(names)\n",
    "print(phones)"
   ]
  },
  {
   "cell_type": "code",
   "execution_count": 25,
   "id": "8a7e6cba",
   "metadata": {},
   "outputs": [
    {
     "name": "stdout",
     "output_type": "stream",
     "text": [
      "('801456789', '6094567890', '2063452619', '6095648765')\n"
     ]
    }
   ],
   "source": [
    "clean_phones = sanitize(phones)\n",
    "print(clean_phones)"
   ]
  },
  {
   "cell_type": "code",
   "execution_count": 26,
   "id": "600452ce",
   "metadata": {},
   "outputs": [],
   "source": [
    "areacodes_file = open('maps_areacodes_states.txt')\n",
    "(areacodes, states) = read_file(areacodes_file)"
   ]
  },
  {
   "cell_type": "code",
   "execution_count": 29,
   "id": "573cb955",
   "metadata": {},
   "outputs": [
    {
     "name": "stdout",
     "output_type": "stream",
     "text": [
      "You have 4 friends!\n",
      "They live in ('Utah', 'New Jersey', 'Washington')\n"
     ]
    }
   ],
   "source": [
    "analyze_friends(names, clean_phones, areacodes, states)"
   ]
  }
 ],
 "metadata": {
  "kernelspec": {
   "display_name": "Python 3 (ipykernel)",
   "language": "python",
   "name": "python3"
  },
  "language_info": {
   "codemirror_mode": {
    "name": "ipython",
    "version": 3
   },
   "file_extension": ".py",
   "mimetype": "text/x-python",
   "name": "python",
   "nbconvert_exporter": "python",
   "pygments_lexer": "ipython3",
   "version": "3.9.7"
  }
 },
 "nbformat": 4,
 "nbformat_minor": 5
}
